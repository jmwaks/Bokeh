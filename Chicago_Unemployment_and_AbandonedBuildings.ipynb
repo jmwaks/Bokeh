{
 "cells": [
  {
   "cell_type": "code",
   "execution_count": 121,
   "metadata": {
    "collapsed": true
   },
   "outputs": [],
   "source": [
    "import pandas as pd\n",
    "import numpy as np\n",
    "from bokeh.io import show\n",
    "from bokeh.models import (\n",
    "    ColumnDataSource,\n",
    "    HoverTool,\n",
    "    LogColorMapper\n",
    ")\n",
    "from bokeh.palettes import Viridis6 as palette\n",
    "from bokeh.plotting import *\n",
    "import shapefile\n",
    "from bokeh.models import *\n",
    "from bokeh.models import HoverTool\n",
    "from collections import OrderedDict"
   ]
  },
  {
   "cell_type": "code",
   "execution_count": 122,
   "metadata": {
    "collapsed": true
   },
   "outputs": [],
   "source": [
    "unemployment = pd.read_csv('data/unemployment.csv', encoding='utf-8')"
   ]
  },
  {
   "cell_type": "code",
   "execution_count": 193,
   "metadata": {
    "collapsed": false
   },
   "outputs": [],
   "source": [
    "abandoned_buildings = pd.read_csv('data/Abandoned_Buildings_by_ComArea.csv', encoding='utf-8')"
   ]
  },
  {
   "cell_type": "code",
   "execution_count": 203,
   "metadata": {
    "collapsed": false
   },
   "outputs": [
    {
     "data": {
      "text/html": [
       "<div>\n",
       "<table border=\"1\" class=\"dataframe\">\n",
       "  <thead>\n",
       "    <tr style=\"text-align: right;\">\n",
       "      <th></th>\n",
       "      <th>Community_Area</th>\n",
       "      <th>Community_Area_Name</th>\n",
       "      <th>Abandoned_Buildings</th>\n",
       "      <th>Latitude</th>\n",
       "      <th>Longitude</th>\n",
       "    </tr>\n",
       "  </thead>\n",
       "  <tbody>\n",
       "    <tr>\n",
       "      <th>0</th>\n",
       "      <td>1</td>\n",
       "      <td>ROGERS PARK</td>\n",
       "      <td>84</td>\n",
       "      <td>42.018652</td>\n",
       "      <td>-87.669745</td>\n",
       "    </tr>\n",
       "    <tr>\n",
       "      <th>1</th>\n",
       "      <td>2</td>\n",
       "      <td>WEST RIDGE</td>\n",
       "      <td>208</td>\n",
       "      <td>42.011092</td>\n",
       "      <td>-87.686437</td>\n",
       "    </tr>\n",
       "    <tr>\n",
       "      <th>2</th>\n",
       "      <td>3</td>\n",
       "      <td>UPTOWN</td>\n",
       "      <td>122</td>\n",
       "      <td>41.973565</td>\n",
       "      <td>-87.669563</td>\n",
       "    </tr>\n",
       "    <tr>\n",
       "      <th>3</th>\n",
       "      <td>4</td>\n",
       "      <td>LINCOLN SQUARE</td>\n",
       "      <td>141</td>\n",
       "      <td>41.973014</td>\n",
       "      <td>-87.689218</td>\n",
       "    </tr>\n",
       "    <tr>\n",
       "      <th>4</th>\n",
       "      <td>5</td>\n",
       "      <td>NORTH CENTER</td>\n",
       "      <td>144</td>\n",
       "      <td>41.940480</td>\n",
       "      <td>-87.678846</td>\n",
       "    </tr>\n",
       "  </tbody>\n",
       "</table>\n",
       "</div>"
      ],
      "text/plain": [
       "   Community_Area Community_Area_Name  Abandoned_Buildings   Latitude  \\\n",
       "0               1         ROGERS PARK                   84  42.018652   \n",
       "1               2          WEST RIDGE                  208  42.011092   \n",
       "2               3              UPTOWN                  122  41.973565   \n",
       "3               4      LINCOLN SQUARE                  141  41.973014   \n",
       "4               5        NORTH CENTER                  144  41.940480   \n",
       "\n",
       "   Longitude  \n",
       "0 -87.669745  \n",
       "1 -87.686437  \n",
       "2 -87.669563  \n",
       "3 -87.689218  \n",
       "4 -87.678846  "
      ]
     },
     "execution_count": 203,
     "metadata": {},
     "output_type": "execute_result"
    }
   ],
   "source": [
    "abandoned_buildings.head(5)"
   ]
  },
  {
   "cell_type": "code",
   "execution_count": 147,
   "metadata": {
    "collapsed": false
   },
   "outputs": [],
   "source": [
    "chicago = shapefile.Reader(\"Chi_Shapefiles/geo_export_8fdf40c2-dd7b-4f8f-8d9f-d0089dd07307\")"
   ]
  },
  {
   "cell_type": "code",
   "execution_count": 148,
   "metadata": {
    "collapsed": false
   },
   "outputs": [
    {
     "data": {
      "text/plain": [
       "77"
      ]
     },
     "execution_count": 148,
     "metadata": {},
     "output_type": "execute_result"
    }
   ],
   "source": [
    "com_areas= set(i[4] for i in records)\n",
    "len(com_areas)\n"
   ]
  },
  {
   "cell_type": "code",
   "execution_count": 149,
   "metadata": {
    "collapsed": true
   },
   "outputs": [],
   "source": [
    "records = chicago.records()\n",
    "fields =  chicago.fields\n",
    "shapes = chicago.shapes()"
   ]
  },
  {
   "cell_type": "code",
   "execution_count": 152,
   "metadata": {
    "collapsed": false
   },
   "outputs": [
    {
     "data": {
      "text/plain": [
       "[('DeletionFlag', 'C', 1, 0),\n",
       " ['perimeter', 'N', 33, 31],\n",
       " ['community', 'C', 254, 0],\n",
       " ['shape_len', 'N', 33, 31],\n",
       " ['shape_area', 'N', 33, 31],\n",
       " ['area', 'N', 33, 31],\n",
       " ['comarea', 'N', 33, 31],\n",
       " ['area_numbe', 'C', 254, 0],\n",
       " ['area_num_1', 'C', 254, 0],\n",
       " ['comarea_id', 'N', 33, 31]]"
      ]
     },
     "execution_count": 152,
     "metadata": {},
     "output_type": "execute_result"
    }
   ],
   "source": [
    "fields"
   ]
  },
  {
   "cell_type": "code",
   "execution_count": 150,
   "metadata": {
    "collapsed": false
   },
   "outputs": [],
   "source": [
    "shape_records = chicago.shapeRecords()"
   ]
  },
  {
   "cell_type": "code",
   "execution_count": 154,
   "metadata": {
    "collapsed": false
   },
   "outputs": [
    {
     "data": {
      "text/plain": [
       "[0.0, 'DOUGLAS', 31027.0545098, 46004621.1581, 0.0, 0.0, '35', '35', 0.0]"
      ]
     },
     "execution_count": 154,
     "metadata": {},
     "output_type": "execute_result"
    }
   ],
   "source": [
    "shape_records[0].record"
   ]
  },
  {
   "cell_type": "code",
   "execution_count": 197,
   "metadata": {
    "collapsed": true
   },
   "outputs": [],
   "source": [
    "unemployment.rename(columns={'COMMUNITY AREA NAME':'COMMUNITY_AREA_NAME'},inplace=True)\n",
    "unemployment.rename(columns={'PERCENT AGED 16+ UNEMPLOYED':'Unemployment'},inplace=True)\n",
    "unemployment['COMMUNITY_AREA_NAME'] = unemployment['COMMUNITY_AREA_NAME'].str.upper()\n",
    "abandoned_buildings['Community_Area_Name'] = abandoned_buildings['Community_Area_Name'].str.upper()"
   ]
  },
  {
   "cell_type": "code",
   "execution_count": 165,
   "metadata": {
    "collapsed": false
   },
   "outputs": [],
   "source": [
    "unemployment.rename(columns={'Community Area Number':'Area_Number'},inplace=True)"
   ]
  },
  {
   "cell_type": "code",
   "execution_count": 199,
   "metadata": {
    "collapsed": false
   },
   "outputs": [],
   "source": [
    "unemply = dict(zip(unemployment.COMMUNITY_AREA_NAME,unemployment.Unemployment ))\n",
    "area_num = dict(zip(unemployment.COMMUNITY_AREA_NAME,unemployment.Area_Number ))\n",
    "abandoned = dict(zip(abandoned_buildings.Community_Area_Name,abandoned_buildings.Abandoned_Buildings ))"
   ]
  },
  {
   "cell_type": "code",
   "execution_count": 222,
   "metadata": {
    "collapsed": false
   },
   "outputs": [],
   "source": [
    "##Borrowed from http://www.abisen.com/blog/bokeh-maps/\n",
    "##\n",
    "def getParts ( shapeObj ):\n",
    "\n",
    "    points = []\n",
    "\n",
    "    num_parts = len( shapeObj.parts )\n",
    "    end = len( shapeObj.points ) - 1\n",
    "    segments = list( shapeObj.parts ) + [ end ]\n",
    "\n",
    "    for i in range( num_parts ):\n",
    "        points.append( shapeObj.points[ segments[i]:segments[i+1] ] )\n",
    "\n",
    "    return points"
   ]
  },
  {
   "cell_type": "code",
   "execution_count": 223,
   "metadata": {
    "collapsed": true
   },
   "outputs": [],
   "source": [
    "##Borrowed from http://www.abisen.com/blog/bokeh-maps/\n",
    "\n",
    "def getDict ( com_area, shapefile ):\n",
    "\n",
    "    stateDict = {com_area: {} }\n",
    "\n",
    "    rec = []\n",
    "    shp = []\n",
    "    points = []\n",
    "\n",
    "    for i in shapefile.shapeRecords( ):\n",
    "\n",
    "        if i.record[1] == com_area:\n",
    "            rec.append(i.record)\n",
    "            shp.append(i.shape)\n",
    "\n",
    "    total_area = sum( [float(i[3]) for i in rec] ) / (1000*1000)\n",
    "\n",
    "\n",
    "    for j in shp:\n",
    "        for i in getParts(j):\n",
    "            points.append(i)\n",
    "\n",
    "    lat = []\n",
    "    lng = []\n",
    "    for i in points:\n",
    "        lat.append( [j[0] for j in i] )\n",
    "        lng.append( [j[1] for j in i] )\n",
    "\n",
    "\n",
    "    stateDict[com_area]['lat_list'] = lat\n",
    "    stateDict[com_area]['lng_list'] = lng\n",
    "    stateDict[com_area]['total_area'] = total_area\n",
    "\n",
    "    return stateDict"
   ]
  },
  {
   "cell_type": "code",
   "execution_count": 224,
   "metadata": {
    "collapsed": false
   },
   "outputs": [],
   "source": [
    "county_x = []\n",
    "county_y = []\n",
    "total_area = []\n",
    "county_names = []\n",
    "area_number = []\n",
    "for areas in com_areas:\n",
    "    data = getDict(areas, chicago)\n",
    "    lon = data[areas]['lng_list'][0]\n",
    "    lat = data[areas]['lat_list'][0]\n",
    "    area = data[areas]['total_area']\n",
    "    county_x.append(lat)\n",
    "    county_y.append(lon)\n",
    "    total_area.append(area)\n",
    "    county_names.append(areas)"
   ]
  },
  {
   "cell_type": "code",
   "execution_count": 225,
   "metadata": {
    "collapsed": false
   },
   "outputs": [],
   "source": [
    "colors = [\"#F1EEF6\", \"#D4B9DA\", \"#C994C7\", \"#DF65B0\", \"#DD1C77\", \"#980043\"]\n",
    "\n",
    "county_colors = []\n",
    "#county_names = []\n",
    "county_rates = []\n",
    "buildings = []\n",
    "for county_id in unemply:\n",
    "    rate = unemply[county_id]\n",
    "    idx = min(int(rate/2), 5)\n",
    "    number = area_num[county_id]\n",
    "    abandon = abandoned[county_id]\n",
    "    county_colors.append(colors[idx])\n",
    "    buildings.append(abandon)\n",
    "    county_rates.append(rate)\n",
    "    #area_number.append(number)\n",
    "\n",
    "source = ColumnDataSource(\n",
    "    data = dict(\n",
    "        x=county_x,\n",
    "        y=county_y,\n",
    "        color=county_colors,\n",
    "        name=county_names,\n",
    "        buildings=buildings,\n",
    "        rate=county_rates,\n",
    "        total_area = total_area\n",
    "    )\n",
    ")"
   ]
  },
  {
   "cell_type": "code",
   "execution_count": 226,
   "metadata": {
    "collapsed": false
   },
   "outputs": [
    {
     "name": "stderr",
     "output_type": "stream",
     "text": [
      "INFO:bokeh.core.state:Session output file 'unemployment.html' already exists, will be overwritten.\n"
     ]
    }
   ],
   "source": [
    "TOOLS=\"pan,wheel_zoom,box_zoom,reset,hover,save\"\n",
    "\n",
    "p = figure(title=\"Chicago Unemployment\", tools=TOOLS)\n",
    "\n",
    "p.patches('x', 'y', source=source,\n",
    "          fill_color='color', fill_alpha=0.7,\n",
    "          line_color=\"white\", line_width=0.5)\n",
    "\n",
    "hover = p.select_one(HoverTool)\n",
    "hover.point_policy = \"follow_mouse\"\n",
    "hover.tooltips = [\n",
    "    (\"Name\", \"@name\"),\n",
    "    (\"Total_Area\",\"@total_area\"),\n",
    "    (\"Abandoned Buildings\", \"@buildings\"),\n",
    "    (\"Unemployment rate)\", \"@rate%\"),\n",
    "    (\"(Long, Lat)\", \"($x, $y)\"),\n",
    "]\n",
    "\n",
    "output_file(\"unemployment.html\", title=\"Chicago_Unemployment\")\n",
    "\n",
    "show(p)"
   ]
  },
  {
   "cell_type": "code",
   "execution_count": null,
   "metadata": {
    "collapsed": true
   },
   "outputs": [],
   "source": []
  }
 ],
 "metadata": {
  "kernelspec": {
   "display_name": "Python 3",
   "language": "python",
   "name": "python3"
  },
  "language_info": {
   "codemirror_mode": {
    "name": "ipython",
    "version": 3
   },
   "file_extension": ".py",
   "mimetype": "text/x-python",
   "name": "python",
   "nbconvert_exporter": "python",
   "pygments_lexer": "ipython3",
   "version": "3.5.2"
  }
 },
 "nbformat": 4,
 "nbformat_minor": 1
}
